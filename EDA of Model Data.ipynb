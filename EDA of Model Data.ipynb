{
 "cells": [
  {
   "cell_type": "markdown",
   "metadata": {},
   "source": [
    "# Problem Statement\n",
    "\n",
    "I can be difficult to find time to train martial arts with a teacher.  This can be particular true during coronavirus or other social limitations.  My goal is to create a computer vision model that would be able to detect the pose of the practitioner. This could then be used to make sure the pose is correct that way the student can practice even when away from the dojo.\n",
    "\n",
    "The data will be gathered from video of me doing the iaido kata and certain important poses will be classified that will then be used to create the classifier for use by other people."
   ]
  },
  {
   "cell_type": "markdown",
   "metadata": {},
   "source": [
    "# EDA"
   ]
  },
  {
   "cell_type": "code",
   "execution_count": 16,
   "metadata": {},
   "outputs": [],
   "source": [
    "import pandas as pd\n",
    "from sklearn.neighbors import KNeighborsClassifier\n",
    "from sklearn.model_selection import train_test_split\n",
    "from sklearn.preprocessing import StandardScaler"
   ]
  },
  {
   "cell_type": "code",
   "execution_count": 17,
   "metadata": {},
   "outputs": [],
   "source": [
    "df = pd.read_json('./poses/iaido4.json')"
   ]
  },
  {
   "cell_type": "markdown",
   "metadata": {},
   "source": [
    "The data collected from the different poses in a json file"
   ]
  },
  {
   "cell_type": "code",
   "execution_count": 18,
   "metadata": {},
   "outputs": [
    {
     "data": {
      "text/html": [
       "<div>\n",
       "<style scoped>\n",
       "    .dataframe tbody tr th:only-of-type {\n",
       "        vertical-align: middle;\n",
       "    }\n",
       "\n",
       "    .dataframe tbody tr th {\n",
       "        vertical-align: top;\n",
       "    }\n",
       "\n",
       "    .dataframe thead th {\n",
       "        text-align: right;\n",
       "    }\n",
       "</style>\n",
       "<table border=\"1\" class=\"dataframe\">\n",
       "  <thead>\n",
       "    <tr style=\"text-align: right;\">\n",
       "      <th></th>\n",
       "      <th>data</th>\n",
       "    </tr>\n",
       "  </thead>\n",
       "  <tbody>\n",
       "    <tr>\n",
       "      <th>0</th>\n",
       "      <td>{'xs': {'0': 362.84447236832585, '1': 293.9533...</td>\n",
       "    </tr>\n",
       "    <tr>\n",
       "      <th>1</th>\n",
       "      <td>{'xs': {'0': 363.3405228107296, '1': 295.38846...</td>\n",
       "    </tr>\n",
       "    <tr>\n",
       "      <th>2</th>\n",
       "      <td>{'xs': {'0': 361.7336607815926, '1': 294.32161...</td>\n",
       "    </tr>\n",
       "    <tr>\n",
       "      <th>3</th>\n",
       "      <td>{'xs': {'0': 362.74866026047374, '1': 294.5703...</td>\n",
       "    </tr>\n",
       "    <tr>\n",
       "      <th>4</th>\n",
       "      <td>{'xs': {'0': 362.28247302317476, '1': 294.0384...</td>\n",
       "    </tr>\n",
       "    <tr>\n",
       "      <th>...</th>\n",
       "      <td>...</td>\n",
       "    </tr>\n",
       "    <tr>\n",
       "      <th>1650</th>\n",
       "      <td>{'xs': {'0': 334.99794452511077, '1': 140.2615...</td>\n",
       "    </tr>\n",
       "    <tr>\n",
       "      <th>1651</th>\n",
       "      <td>{'xs': {'0': 335.09643212628873, '1': 141.1027...</td>\n",
       "    </tr>\n",
       "    <tr>\n",
       "      <th>1652</th>\n",
       "      <td>{'xs': {'0': 334.3125601725736, '1': 139.09320...</td>\n",
       "    </tr>\n",
       "    <tr>\n",
       "      <th>1653</th>\n",
       "      <td>{'xs': {'0': 336.32952744035924, '1': 137.7072...</td>\n",
       "    </tr>\n",
       "    <tr>\n",
       "      <th>1654</th>\n",
       "      <td>{'xs': {'0': 336.8516501859847, '1': 138.34088...</td>\n",
       "    </tr>\n",
       "  </tbody>\n",
       "</table>\n",
       "<p>1655 rows × 1 columns</p>\n",
       "</div>"
      ],
      "text/plain": [
       "                                                   data\n",
       "0     {'xs': {'0': 362.84447236832585, '1': 293.9533...\n",
       "1     {'xs': {'0': 363.3405228107296, '1': 295.38846...\n",
       "2     {'xs': {'0': 361.7336607815926, '1': 294.32161...\n",
       "3     {'xs': {'0': 362.74866026047374, '1': 294.5703...\n",
       "4     {'xs': {'0': 362.28247302317476, '1': 294.0384...\n",
       "...                                                 ...\n",
       "1650  {'xs': {'0': 334.99794452511077, '1': 140.2615...\n",
       "1651  {'xs': {'0': 335.09643212628873, '1': 141.1027...\n",
       "1652  {'xs': {'0': 334.3125601725736, '1': 139.09320...\n",
       "1653  {'xs': {'0': 336.32952744035924, '1': 137.7072...\n",
       "1654  {'xs': {'0': 336.8516501859847, '1': 138.34088...\n",
       "\n",
       "[1655 rows x 1 columns]"
      ]
     },
     "execution_count": 18,
     "metadata": {},
     "output_type": "execute_result"
    }
   ],
   "source": [
    "df"
   ]
  },
  {
   "cell_type": "code",
   "execution_count": 19,
   "metadata": {},
   "outputs": [],
   "source": [
    "df = pd.json_normalize(df['data'])"
   ]
  },
  {
   "cell_type": "markdown",
   "metadata": {},
   "source": [
    "the file set to show that the data is collected from 17 different points using the X and Y coordinates of the person based on the locations in the poseNet model to try and show the location of the person at each different pose"
   ]
  },
  {
   "cell_type": "code",
   "execution_count": 20,
   "metadata": {},
   "outputs": [
    {
     "data": {
      "text/html": [
       "<div>\n",
       "<style scoped>\n",
       "    .dataframe tbody tr th:only-of-type {\n",
       "        vertical-align: middle;\n",
       "    }\n",
       "\n",
       "    .dataframe tbody tr th {\n",
       "        vertical-align: top;\n",
       "    }\n",
       "\n",
       "    .dataframe thead th {\n",
       "        text-align: right;\n",
       "    }\n",
       "</style>\n",
       "<table border=\"1\" class=\"dataframe\">\n",
       "  <thead>\n",
       "    <tr style=\"text-align: right;\">\n",
       "      <th></th>\n",
       "      <th>xs.0</th>\n",
       "      <th>xs.1</th>\n",
       "      <th>xs.2</th>\n",
       "      <th>xs.3</th>\n",
       "      <th>xs.4</th>\n",
       "      <th>xs.5</th>\n",
       "      <th>xs.6</th>\n",
       "      <th>xs.7</th>\n",
       "      <th>xs.8</th>\n",
       "      <th>xs.9</th>\n",
       "      <th>...</th>\n",
       "      <th>xs.25</th>\n",
       "      <th>xs.26</th>\n",
       "      <th>xs.27</th>\n",
       "      <th>xs.28</th>\n",
       "      <th>xs.29</th>\n",
       "      <th>xs.30</th>\n",
       "      <th>xs.31</th>\n",
       "      <th>xs.32</th>\n",
       "      <th>xs.33</th>\n",
       "      <th>ys.0</th>\n",
       "    </tr>\n",
       "  </thead>\n",
       "  <tbody>\n",
       "    <tr>\n",
       "      <th>0</th>\n",
       "      <td>362.844472</td>\n",
       "      <td>293.953364</td>\n",
       "      <td>369.402504</td>\n",
       "      <td>289.847082</td>\n",
       "      <td>355.707870</td>\n",
       "      <td>289.544343</td>\n",
       "      <td>380.760290</td>\n",
       "      <td>298.925547</td>\n",
       "      <td>344.325114</td>\n",
       "      <td>297.174250</td>\n",
       "      <td>...</td>\n",
       "      <td>442.141857</td>\n",
       "      <td>423.725557</td>\n",
       "      <td>515.173347</td>\n",
       "      <td>314.193706</td>\n",
       "      <td>508.682837</td>\n",
       "      <td>395.173036</td>\n",
       "      <td>507.355105</td>\n",
       "      <td>305.530022</td>\n",
       "      <td>505.238546</td>\n",
       "      <td>a</td>\n",
       "    </tr>\n",
       "    <tr>\n",
       "      <th>1</th>\n",
       "      <td>363.340523</td>\n",
       "      <td>295.388461</td>\n",
       "      <td>370.123984</td>\n",
       "      <td>291.187598</td>\n",
       "      <td>355.348445</td>\n",
       "      <td>290.408351</td>\n",
       "      <td>380.734561</td>\n",
       "      <td>299.375206</td>\n",
       "      <td>343.768156</td>\n",
       "      <td>298.790354</td>\n",
       "      <td>...</td>\n",
       "      <td>440.940561</td>\n",
       "      <td>426.800098</td>\n",
       "      <td>518.464885</td>\n",
       "      <td>324.699729</td>\n",
       "      <td>477.617036</td>\n",
       "      <td>394.089301</td>\n",
       "      <td>502.422096</td>\n",
       "      <td>329.757752</td>\n",
       "      <td>488.461986</td>\n",
       "      <td>a</td>\n",
       "    </tr>\n",
       "    <tr>\n",
       "      <th>2</th>\n",
       "      <td>361.733661</td>\n",
       "      <td>294.321611</td>\n",
       "      <td>368.981019</td>\n",
       "      <td>290.423393</td>\n",
       "      <td>354.628019</td>\n",
       "      <td>289.538609</td>\n",
       "      <td>379.677721</td>\n",
       "      <td>300.113989</td>\n",
       "      <td>343.165170</td>\n",
       "      <td>298.809754</td>\n",
       "      <td>...</td>\n",
       "      <td>442.850610</td>\n",
       "      <td>416.122056</td>\n",
       "      <td>509.041778</td>\n",
       "      <td>323.937951</td>\n",
       "      <td>481.136502</td>\n",
       "      <td>397.691924</td>\n",
       "      <td>518.804292</td>\n",
       "      <td>321.293392</td>\n",
       "      <td>489.795282</td>\n",
       "      <td>a</td>\n",
       "    </tr>\n",
       "    <tr>\n",
       "      <th>3</th>\n",
       "      <td>362.748660</td>\n",
       "      <td>294.570337</td>\n",
       "      <td>369.225223</td>\n",
       "      <td>290.119980</td>\n",
       "      <td>355.154495</td>\n",
       "      <td>289.632522</td>\n",
       "      <td>379.866969</td>\n",
       "      <td>298.859511</td>\n",
       "      <td>343.489220</td>\n",
       "      <td>297.876090</td>\n",
       "      <td>...</td>\n",
       "      <td>441.123401</td>\n",
       "      <td>422.517412</td>\n",
       "      <td>517.928692</td>\n",
       "      <td>308.230629</td>\n",
       "      <td>513.745129</td>\n",
       "      <td>387.221337</td>\n",
       "      <td>518.940277</td>\n",
       "      <td>322.254205</td>\n",
       "      <td>500.999547</td>\n",
       "      <td>a</td>\n",
       "    </tr>\n",
       "    <tr>\n",
       "      <th>4</th>\n",
       "      <td>362.282473</td>\n",
       "      <td>294.038447</td>\n",
       "      <td>369.808476</td>\n",
       "      <td>289.883852</td>\n",
       "      <td>354.613360</td>\n",
       "      <td>289.384527</td>\n",
       "      <td>380.314143</td>\n",
       "      <td>299.134334</td>\n",
       "      <td>342.355151</td>\n",
       "      <td>298.579851</td>\n",
       "      <td>...</td>\n",
       "      <td>441.787057</td>\n",
       "      <td>420.789256</td>\n",
       "      <td>520.151562</td>\n",
       "      <td>304.891626</td>\n",
       "      <td>524.502736</td>\n",
       "      <td>392.279985</td>\n",
       "      <td>518.023143</td>\n",
       "      <td>303.753588</td>\n",
       "      <td>520.978432</td>\n",
       "      <td>a</td>\n",
       "    </tr>\n",
       "  </tbody>\n",
       "</table>\n",
       "<p>5 rows × 35 columns</p>\n",
       "</div>"
      ],
      "text/plain": [
       "         xs.0        xs.1        xs.2        xs.3        xs.4        xs.5  \\\n",
       "0  362.844472  293.953364  369.402504  289.847082  355.707870  289.544343   \n",
       "1  363.340523  295.388461  370.123984  291.187598  355.348445  290.408351   \n",
       "2  361.733661  294.321611  368.981019  290.423393  354.628019  289.538609   \n",
       "3  362.748660  294.570337  369.225223  290.119980  355.154495  289.632522   \n",
       "4  362.282473  294.038447  369.808476  289.883852  354.613360  289.384527   \n",
       "\n",
       "         xs.6        xs.7        xs.8        xs.9  ...       xs.25  \\\n",
       "0  380.760290  298.925547  344.325114  297.174250  ...  442.141857   \n",
       "1  380.734561  299.375206  343.768156  298.790354  ...  440.940561   \n",
       "2  379.677721  300.113989  343.165170  298.809754  ...  442.850610   \n",
       "3  379.866969  298.859511  343.489220  297.876090  ...  441.123401   \n",
       "4  380.314143  299.134334  342.355151  298.579851  ...  441.787057   \n",
       "\n",
       "        xs.26       xs.27       xs.28       xs.29       xs.30       xs.31  \\\n",
       "0  423.725557  515.173347  314.193706  508.682837  395.173036  507.355105   \n",
       "1  426.800098  518.464885  324.699729  477.617036  394.089301  502.422096   \n",
       "2  416.122056  509.041778  323.937951  481.136502  397.691924  518.804292   \n",
       "3  422.517412  517.928692  308.230629  513.745129  387.221337  518.940277   \n",
       "4  420.789256  520.151562  304.891626  524.502736  392.279985  518.023143   \n",
       "\n",
       "        xs.32       xs.33  ys.0  \n",
       "0  305.530022  505.238546     a  \n",
       "1  329.757752  488.461986     a  \n",
       "2  321.293392  489.795282     a  \n",
       "3  322.254205  500.999547     a  \n",
       "4  303.753588  520.978432     a  \n",
       "\n",
       "[5 rows x 35 columns]"
      ]
     },
     "execution_count": 20,
     "metadata": {},
     "output_type": "execute_result"
    }
   ],
   "source": [
    "df.head()"
   ]
  },
  {
   "cell_type": "code",
   "execution_count": 21,
   "metadata": {},
   "outputs": [
    {
     "data": {
      "text/plain": [
       "a    247\n",
       "h    220\n",
       "e    218\n",
       "f    209\n",
       "g    205\n",
       "d    196\n",
       "b    192\n",
       "c    168\n",
       "Name: ys.0, dtype: int64"
      ]
     },
     "execution_count": 21,
     "metadata": {},
     "output_type": "execute_result"
    }
   ],
   "source": [
    "df['ys.0'].value_counts()"
   ]
  },
  {
   "cell_type": "code",
   "execution_count": 29,
   "metadata": {},
   "outputs": [
    {
     "data": {
      "text/plain": [
       "xs.0     0\n",
       "xs.1     0\n",
       "xs.2     0\n",
       "xs.3     0\n",
       "xs.4     0\n",
       "xs.5     0\n",
       "xs.6     0\n",
       "xs.7     0\n",
       "xs.8     0\n",
       "xs.9     0\n",
       "xs.10    0\n",
       "xs.11    0\n",
       "xs.12    0\n",
       "xs.13    0\n",
       "xs.14    0\n",
       "xs.15    0\n",
       "xs.16    0\n",
       "xs.17    0\n",
       "xs.18    0\n",
       "xs.19    0\n",
       "xs.20    0\n",
       "xs.21    0\n",
       "xs.22    0\n",
       "xs.23    0\n",
       "xs.24    0\n",
       "xs.25    0\n",
       "xs.26    0\n",
       "xs.27    0\n",
       "xs.28    0\n",
       "xs.29    0\n",
       "xs.30    0\n",
       "xs.31    0\n",
       "xs.32    0\n",
       "xs.33    0\n",
       "ys.0     0\n",
       "dtype: int64"
      ]
     },
     "execution_count": 29,
     "metadata": {},
     "output_type": "execute_result"
    }
   ],
   "source": [
    "df.isnull().sum()"
   ]
  },
  {
   "cell_type": "code",
   "execution_count": 22,
   "metadata": {},
   "outputs": [],
   "source": [
    "X = df.drop(columns='ys.0')\n",
    "y = df['ys.0']"
   ]
  },
  {
   "cell_type": "code",
   "execution_count": 23,
   "metadata": {},
   "outputs": [],
   "source": [
    "X_train, X_test, y_train, y_test = train_test_split(X, y, random_state=42)"
   ]
  },
  {
   "cell_type": "code",
   "execution_count": 24,
   "metadata": {},
   "outputs": [],
   "source": [
    "ss = StandardScaler()\n",
    "\n",
    "ss.fit(X_train)\n",
    "\n",
    "X_train_sc = ss.transform(X_train)\n",
    "X_test_sc = ss.transform(X_test)"
   ]
  },
  {
   "cell_type": "code",
   "execution_count": 25,
   "metadata": {},
   "outputs": [],
   "source": [
    "knn = KNeighborsClassifier(n_neighbors=5)\n"
   ]
  },
  {
   "cell_type": "code",
   "execution_count": 26,
   "metadata": {},
   "outputs": [],
   "source": [
    "knn.fit(X_train_sc, y_train);"
   ]
  },
  {
   "cell_type": "code",
   "execution_count": 27,
   "metadata": {},
   "outputs": [
    {
     "data": {
      "text/plain": [
       "1.0"
      ]
     },
     "execution_count": 27,
     "metadata": {},
     "output_type": "execute_result"
    }
   ],
   "source": [
    "\n",
    "knn.score(X_train_sc, y_train)"
   ]
  },
  {
   "cell_type": "code",
   "execution_count": 28,
   "metadata": {},
   "outputs": [
    {
     "data": {
      "text/plain": [
       "0.9951690821256038"
      ]
     },
     "execution_count": 28,
     "metadata": {},
     "output_type": "execute_result"
    }
   ],
   "source": [
    "\n",
    "knn.score(X_test_sc, y_test)"
   ]
  },
  {
   "cell_type": "markdown",
   "metadata": {},
   "source": [
    "Just running the basline shows that the data is easy to classify"
   ]
  },
  {
   "cell_type": "markdown",
   "metadata": {},
   "source": [
    "# Conclusion\n",
    "\n",
    "Much of the work was done in a program call p5 and used javascript.  The model used was the ml5 neural network. documentation for it can be found here https://learn.ml5js.org/docs/#/reference/neural-network.  The training data was taken from my demonstration of the iaido kata and was used to classify the poses that could then be run by a student. The model was set to create 8 classified poses based on important points in the kata.  I had to use a series of different models to try and get a good working model.\n",
    "\n",
    "Certain limitations of the model that I ran into include:\n",
    " - I was only using a built in webcam for my laptop so the mediocre image quality probably made the poseNet have trouble with pinpointing the points on the body\n",
    " - The clothing that is worn during iaido includes a hakama which is a long and loose pair of pants so it made it hard for the computer to detect the legs\n",
    " - some of the points in the kata are very close to each other and caused problems with classifying what were nearly similar poses\n",
    " - With some of the early models I tried to move around to get a range of locations for the x and y points but that caused problems because some of the poses were so close that the overlap caused the model to have problems\n",
    " - position in front of the camera was very important to replicating the pose as it relates to the x and y position\n",
    " \n",
    "The model was able to classify the 8 poses well. The initial model was trained using my data and tested using the data from a student at my dojo.  The choice of test subect was based on the fact that he had a very different body shape to show the efficacy of the model using other data.  With the hakama the model was able to classify 7 of the 8 poses using a little work. Without the hakama the model classified all 8 poses with onlt some trouble. \n",
    "\n",
    "With more work the model could potentially be used beyond just iaido like other martial arts or even yoga to help people make sure they find the correct pose based on posture and position and allow for a sort of supervised training even without a trainer."
   ]
  },
  {
   "cell_type": "markdown",
   "metadata": {},
   "source": [
    "# Resources\n",
    "\n",
    "https://www.analyticsvidhya.com/blog/2019/06/build-machine-learning-model-in-your-browser-tensorflow-js-deeplearn-js/\n",
    "\n",
    "info on tensorflow and poseNet and how to use them in a browser \n",
    "\n",
    "https://www.youtube.com/watch?v=FYgYyq-xqAw\n",
    "\n",
    "part of a video series by The Coding Train that goes over the tensorflow poseNet and using a classifier with it\n",
    "\n",
    "https://medium.com/tensorflow/real-time-human-pose-estimation-in-the-browser-with-tensorflow-js-7dd0bc881cd5\n",
    "\n",
    "information on poseNet and Tensorflow.js"
   ]
  },
  {
   "cell_type": "markdown",
   "metadata": {},
   "source": [
    "# Future Work\n",
    "\n",
    "Creating a better display for the classifier that shows current step of the kata, next step, and if it is complete\n",
    "\n",
    "Figuring out a way to make the model more robust so that it can detect even with a hakama\n",
    "\n",
    "Adding more kata or other things to the classifier to expand the usage"
   ]
  },
  {
   "cell_type": "code",
   "execution_count": null,
   "metadata": {},
   "outputs": [],
   "source": []
  }
 ],
 "metadata": {
  "kernelspec": {
   "display_name": "Python 3",
   "language": "python",
   "name": "python3"
  },
  "language_info": {
   "codemirror_mode": {
    "name": "ipython",
    "version": 3
   },
   "file_extension": ".py",
   "mimetype": "text/x-python",
   "name": "python",
   "nbconvert_exporter": "python",
   "pygments_lexer": "ipython3",
   "version": "3.7.7"
  }
 },
 "nbformat": 4,
 "nbformat_minor": 4
}
